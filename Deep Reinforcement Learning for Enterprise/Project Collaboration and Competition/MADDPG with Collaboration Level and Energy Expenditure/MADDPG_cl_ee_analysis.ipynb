{
 "cells": [
  {
   "cell_type": "markdown",
   "metadata": {},
   "source": [
    "# Introduction"
   ]
  },
  {
   "cell_type": "markdown",
   "metadata": {},
   "source": [
    "In this notebook we develop a Multi Agent Deep Deterministic Policy Gradient (MADDPG) model with defined Collaboration Level and Energy Expenditure and analyse its performance on Unity's Tennis environment with two agents."
   ]
  },
  {
   "cell_type": "markdown",
   "metadata": {},
   "source": [
    "This is part of the third and last project: *Collaboration and Competition* in **Deep Reinforcement Learning for Enterprise** Course at *Udacity*."
   ]
  },
  {
   "cell_type": "markdown",
   "metadata": {},
   "source": [
    "## 0 - Importing Packages"
   ]
  },
  {
   "cell_type": "markdown",
   "metadata": {},
   "source": [
    "Importing all required packages, utilities and initialising the environment."
   ]
  },
  {
   "cell_type": "code",
   "execution_count": 1,
   "metadata": {},
   "outputs": [
    {
     "name": "stderr",
     "output_type": "stream",
     "text": [
      "INFO:unityagents:\n",
      "'Academy' started successfully!\n",
      "Unity Academy name: Academy\n",
      "        Number of Brains: 1\n",
      "        Number of External Brains : 1\n",
      "        Lesson number : 0\n",
      "        Reset Parameters :\n",
      "\t\t\n",
      "Unity brain name: TennisBrain\n",
      "        Number of Visual Observations (per agent): 0\n",
      "        Vector Observation space type: continuous\n",
      "        Vector Observation space size (per agent): 8\n",
      "        Number of stacked Vector Observation: 3\n",
      "        Vector Action space type: continuous\n",
      "        Vector Action space size (per agent): 2\n",
      "        Vector Action descriptions: , \n"
     ]
    }
   ],
   "source": [
    "from unityagents import UnityEnvironment\n",
    "import random\n",
    "import torch\n",
    "import numpy as np\n",
    "import pandas as pd\n",
    "from collections import deque\n",
    "import matplotlib.pyplot as plt\n",
    "%matplotlib inline\n",
    "from training_maddpg_cl_ee import maddpg\n",
    "from maddpg_cl_ee import Team\n",
    "\n",
    "def maxlen(dic):\n",
    "    l = 0\n",
    "    for e in dic.values():\n",
    "        if len(e) > l:\n",
    "            l = len(e)\n",
    "    return l\n",
    "\n",
    "def dic_fix(dic):\n",
    "    dicF = {}\n",
    "    ml = maxlen(dic)\n",
    "    for i , e in enumerate(dic.values()):\n",
    "        new = [None] * (ml - len(e))\n",
    "        dicF[i] = e + new\n",
    "    return dicF\n",
    "\n",
    "env = UnityEnvironment(file_name='Tennis.app')"
   ]
  },
  {
   "cell_type": "markdown",
   "metadata": {},
   "source": [
    "## 1 - Training a MADDPG model with collaboration level one"
   ]
  },
  {
   "cell_type": "code",
   "execution_count": 2,
   "metadata": {},
   "outputs": [],
   "source": [
    "dic = {'n_episodes': 5000,         # number episodes used for learning\n",
    "       'max_t': 1000,               # maximum number of steps per episode \n",
    "       'actor_fc1_units': 400,      # number of units for first hidden layer actor net\n",
    "       'actor_fc2_units': 300,      # number of units for second hidden layer actor net\n",
    "       'critic_fc1_units': 400,     # number of units for first hidden layer critic net\n",
    "       'critic_fc2_units': 300,     # number of units for second hidden layer critic net\n",
    "       'buffer_size': int(1e6),     # replay buffer size\n",
    "       'batch_size': 512,           # minibatch size\n",
    "       'gamma': 0.99,               # discount factor\n",
    "       'tau': 1e-3,                 # for soft update of target parameters\n",
    "       'lr_actor': 1e-4,            # learning rate of the actor \n",
    "       'lr_critic': 1e-4,           # learning rate of the critic\n",
    "       'weight_decay': 0,           # L2 weight decay\n",
    "       'update_every': 1,           # learning step frequency per acting step\n",
    "       'epsilon': 0.9,              # uniform noise process initial scale parameter\n",
    "       'epsilon_halflife': 300,     # no episodes to achieve half of the noise\n",
    "       'collaboration_level': 1,    # level at which agents share rewards\n",
    "       'energy_expenditure': 0.000,  # cost of making a move\n",
    "       'file': 'chpt_maddpg_cl'}    # file name to save agent's net weights"
   ]
  },
  {
   "cell_type": "code",
   "execution_count": 3,
   "metadata": {},
   "outputs": [
    {
     "name": "stdout",
     "output_type": "stream",
     "text": [
      "\n",
      "Training session:\t1\n",
      "Episode 100\tAverage Score: 0.01\tTime Split: 117.35\t\t\t\t\t \n",
      "Episode 200\tAverage Score: 0.00\tTime Split: 155.36\t\t\t\t\t \n",
      "Episode 300\tAverage Score: 0.00\tTime Split: 159.89\t\t\t\t\t \n",
      "Episode 400\tAverage Score: 0.00\tTime Split: 165.76\t\t\t\t\t \n",
      "Episode 500\tAverage Score: 0.00\tTime Split: 160.59\t\t\t\t\t \n",
      "Episode 600\tAverage Score: 0.00\tTime Split: 158.79\t\t\t\t\t \n",
      "Episode 700\tAverage Score: 0.01\tTime Split: 172.03\t\t\t\t\t \n",
      "Episode 800\tAverage Score: 0.00\tTime Split: 166.27\t\t\t\t\t \n",
      "Episode 900\tAverage Score: 0.00\tTime Split: 156.83\t\t\t\t\t \n",
      "Episode 1000\tAverage Score: 0.00\tTime Split: 158.24\t\t\t\t\t \n",
      "Episode 1100\tAverage Score: 0.00\tTime Split: 156.66\t\t\t\t\t \n",
      "Episode 1200\tAverage Score: 0.00\tTime Split: 149.78\t\t\t\t\t \n",
      "Episode 1300\tAverage Score: 0.00\tTime Split: 154.88\t\t\t\t\t \n",
      "Episode 1400\tAverage Score: 0.00\tTime Split: 149.55\t\t\t\t\t \n",
      "Episode 1500\tAverage Score: 0.00\tTime Split: 150.94\t\t\t\t\t \n",
      "Episode 1600\tAverage Score: 0.00\tTime Split: 150.73\t\t\t\t\t \n",
      "Episode 1700\tAverage Score: 0.00\tTime Split: 149.38\t\t\t\t\t \n",
      "Episode 1800\tAverage Score: 0.00\tTime Split: 149.26\t\t\t\t\t \n",
      "Episode 1900\tAverage Score: 0.00\tTime Split: 155.81\t\t\t\t\t \n",
      "Episode 2000\tAverage Score: 0.02\tTime Split: 181.83\t\t\t\t\t \n",
      "Episode 2100\tAverage Score: 0.01\tTime Split: 173.89\t\t\t\t\t \n",
      "Episode 2200\tAverage Score: 0.00\tTime Split: 151.17\t\t\t\t\t \n",
      "Episode 2300\tAverage Score: 0.00\tTime Split: 153.94\t\t\t\t\t \n",
      "Episode 2400\tAverage Score: 0.00\tTime Split: 155.35\t\t\t\t\t \n",
      "Episode 2500\tAverage Score: 0.00\tTime Split: 152.36\t\t\t\t\t \n",
      "Episode 2600\tAverage Score: 0.00\tTime Split: 153.06\t\t\t\t\t \n",
      "Episode 2700\tAverage Score: 0.00\tTime Split: 151.12\t\t\t\t\t \n",
      "Episode 2800\tAverage Score: 0.00\tTime Split: 150.63\t\t\t\t\t \n",
      "Episode 2900\tAverage Score: 0.00\tTime Split: 149.96\t\t\t\t\t \n",
      "Episode 3000\tAverage Score: 0.00\tTime Split: 150.21\t\t\t\t\t \n",
      "Episode 3100\tAverage Score: 0.00\tTime Split: 148.87\t\t\t\t\t \n",
      "Episode 3200\tAverage Score: 0.00\tTime Split: 150.09\t\t\t\t\t \n",
      "Episode 3300\tAverage Score: 0.00\tTime Split: 154.56\t\t\t\t\t \n",
      "Episode 3400\tAverage Score: 0.00\tTime Split: 152.50\t\t\t\t\t \n",
      "Episode 3500\tAverage Score: 0.00\tTime Split: 153.94\t\t\t\t\t \n",
      "Episode 3600\tAverage Score: 0.00\tTime Split: 151.85\t\t\t\t\t \n",
      "Episode 3700\tAverage Score: 0.00\tTime Split: 152.98\t\t\t\t\t \n",
      "Episode 3800\tAverage Score: 0.00\tTime Split: 152.10\t\t\t\t\t \n",
      "Episode 3900\tAverage Score: 0.00\tTime Split: 149.97\t\t\t\t\t \n",
      "Episode 4000\tAverage Score: 0.00\tTime Split: 149.99\t\t\t\t\t \n",
      "Episode 4100\tAverage Score: 0.00\tTime Split: 153.03\t\t\t\t\t \n",
      "Episode 4200\tAverage Score: 0.00\tTime Split: 152.24\t\t\t\t\t \n",
      "Episode 4300\tAverage Score: 0.00\tTime Split: 152.45\t\t\t\t\t \n",
      "Episode 4400\tAverage Score: 0.00\tTime Split: 157.01\t\t\t\t\t \n",
      "Episode 4500\tAverage Score: 0.00\tTime Split: 154.68\t\t\t\t\t \n",
      "Episode 4600\tAverage Score: 0.00\tTime Split: 149.66\t\t\t\t\t \n",
      "Episode 4700\tAverage Score: 0.00\tTime Split: 153.49\t\t\t\t\t \n",
      "Episode 4800\tAverage Score: 0.00\tTime Split: 156.80\t\t\t\t\t \n",
      "Episode 4900\tAverage Score: 0.00\tTime Split: 153.18\t\t\t\t\t \n",
      "Episode 5000\tAverage Score: 0.00\tTime Split: 151.35\t\t\t\t\t \n"
     ]
    }
   ],
   "source": [
    "scores_dic = {}\n",
    "times_dic = {}\n",
    "\n",
    "for i in range(1):\n",
    "    print('\\nTraining session:\\t' + str(i+1))\n",
    "    scores, times = maddpg(env, dic, SuccessStop=True, NoiseNet=False, PER=True)\n",
    "    scores_dic[i] = scores\n",
    "    times_dic[i] = times\n",
    "    \n",
    "scores_dic_fix = dic_fix(scores_dic)\n",
    "times_dic_fix = dic_fix(times_dic)\n",
    "scores_df = pd.DataFrame(scores_dic_fix)\n",
    "times_df = pd.DataFrame(times_dic_fix)\n",
    "scores_df.to_csv('scores_maddpg_cl_analysis.csv')\n",
    "times_df.to_csv('times_maddpg_cl_analysis.csv')"
   ]
  },
  {
   "cell_type": "code",
   "execution_count": 3,
   "metadata": {},
   "outputs": [
    {
     "data": {
      "image/png": "[encoded data removed]",
      "text/plain": [
       "<Figure size 1080x720 with 1 Axes>"
      ]
     },
     "metadata": {
      "needs_background": "light"
     },
     "output_type": "display_data"
    }
   ],
   "source": [
    "scores_df = pd.read_csv('scores_maddpg_cl_analysis.csv',index_col=0)\n",
    "times_df = pd.read_csv('times_maddpg_cl_analysis.csv', index_col=0)\n",
    "rolling = scores_df.rolling(100).mean()\n",
    "ax = rolling.plot(legend=None, xlim=(0,5100), figsize=(15, 10), fontsize=15)\n",
    "ax.set_xlabel(\"Episodes\", fontsize=18)\n",
    "ax.set_ylabel(\"Avg Score\", fontsize=18)\n",
    "ax.set_title(\"Rolling averages of scores per 100 episodes\", fontsize=22)\n",
    "ax.hlines(0.5, xmin = 80, xmax=5020, linestyles='dashed', label='goal', colors='r')\n",
    "ax.figure.savefig(\"RollAvgMADDPGCL.png\")"
   ]
  },
  {
   "cell_type": "code",
   "execution_count": 4,
   "metadata": {},
   "outputs": [
    {
     "data": {
      "text/html": [
       "<div>\n",
       "<style scoped>\n",
       "    .dataframe tbody tr th:only-of-type {\n",
       "        vertical-align: middle;\n",
       "    }\n",
       "\n",
       "    .dataframe tbody tr th {\n",
       "        vertical-align: top;\n",
       "    }\n",
       "\n",
       "    .dataframe thead th {\n",
       "        text-align: right;\n",
       "    }\n",
       "</style>\n",
       "<table border=\"1\" class=\"dataframe\">\n",
       "  <thead>\n",
       "    <tr style=\"text-align: right;\">\n",
       "      <th></th>\n",
       "      <th>0</th>\n",
       "    </tr>\n",
       "  </thead>\n",
       "  <tbody>\n",
       "    <tr>\n",
       "      <th>count</th>\n",
       "      <td>4901.000000</td>\n",
       "    </tr>\n",
       "    <tr>\n",
       "      <th>mean</th>\n",
       "      <td>0.001110</td>\n",
       "    </tr>\n",
       "    <tr>\n",
       "      <th>std</th>\n",
       "      <td>0.003322</td>\n",
       "    </tr>\n",
       "    <tr>\n",
       "      <th>min</th>\n",
       "      <td>0.000000</td>\n",
       "    </tr>\n",
       "    <tr>\n",
       "      <th>25%</th>\n",
       "      <td>0.000000</td>\n",
       "    </tr>\n",
       "    <tr>\n",
       "      <th>50%</th>\n",
       "      <td>0.000000</td>\n",
       "    </tr>\n",
       "    <tr>\n",
       "      <th>75%</th>\n",
       "      <td>0.001000</td>\n",
       "    </tr>\n",
       "    <tr>\n",
       "      <th>max</th>\n",
       "      <td>0.024000</td>\n",
       "    </tr>\n",
       "  </tbody>\n",
       "</table>\n",
       "</div>"
      ],
      "text/plain": [
       "                 0\n",
       "count  4901.000000\n",
       "mean      0.001110\n",
       "std       0.003322\n",
       "min       0.000000\n",
       "25%       0.000000\n",
       "50%       0.000000\n",
       "75%       0.001000\n",
       "max       0.024000"
      ]
     },
     "execution_count": 4,
     "metadata": {},
     "output_type": "execute_result"
    }
   ],
   "source": [
    "rolling.describe()"
   ]
  },
  {
   "cell_type": "markdown",
   "metadata": {},
   "source": [
    " The D3PG model with Noisy Nets and PER **solved the environment 70% of the times** when maximum number of episodes per training session is 5000. In successful training sessions, it takes on average **1600 episodes**. The distribution shows a dispersion of **375 episodes** standard deviation."
   ]
  },
  {
   "cell_type": "markdown",
   "metadata": {},
   "source": [
    "## 2 - Training a MADDPG model with collaboration level one and energy expenditure "
   ]
  },
  {
   "cell_type": "code",
   "execution_count": 4,
   "metadata": {},
   "outputs": [],
   "source": [
    "dic = {'n_episodes': 10000,         # number episodes used for learning\n",
    "       'max_t': 1000,               # maximum number of steps per episode \n",
    "       'actor_fc1_units': 400,      # number of units for first hidden layer actor net\n",
    "       'actor_fc2_units': 300,      # number of units for second hidden layer actor net\n",
    "       'critic_fc1_units': 400,     # number of units for first hidden layer critic net\n",
    "       'critic_fc2_units': 300,     # number of units for second hidden layer critic net\n",
    "       'buffer_size': int(1e6),     # replay buffer size\n",
    "       'batch_size': 512,           # minibatch size\n",
    "       'gamma': 0.99,               # discount factor\n",
    "       'tau': 1e-3,                 # for soft update of target parameters\n",
    "       'lr_actor': 1e-4,            # learning rate of the actor \n",
    "       'lr_critic': 1e-4,           # learning rate of the critic\n",
    "       'weight_decay': 0,           # L2 weight decay\n",
    "       'update_every': 1,           # learning step frequency per acting step\n",
    "       'epsilon': 0.9,              # uniform noise process initial scale parameter\n",
    "       'epsilon_halflife': 300,     # no episodes to achieve half of the noise\n",
    "       'collaboration_level': 1,    # level at which agents share rewards\n",
    "       'energy_expenditure': 0.0001,  # cost of making a move\n",
    "       'file': 'chpt_maddpg_cl_ee'}    # file name to save agent's net weights"
   ]
  },
  {
   "cell_type": "code",
   "execution_count": 5,
   "metadata": {},
   "outputs": [
    {
     "name": "stdout",
     "output_type": "stream",
     "text": [
      "\n",
      "Training session:\t1\n",
      "Episode 100\tAverage Score: 0.02\tTime Split: 145.55\t\t\t\t\t \n",
      "Episode 200\tAverage Score: 0.02\tTime Split: 195.15\t\t\t\t\t \n",
      "Episode 300\tAverage Score: 0.02\tTime Split: 191.32\t\t\t\t\t \n",
      "Episode 400\tAverage Score: 0.02\tTime Split: 200.96\t\t\t\t\t \n",
      "Episode 500\tAverage Score: 0.02\tTime Split: 198.86\t\t\t\t\t \n",
      "Episode 600\tAverage Score: 0.01\tTime Split: 162.65\t\t\t\t\t \n",
      "Episode 700\tAverage Score: 0.03\tTime Split: 238.77\t\t\t\t\t \n",
      "Episode 800\tAverage Score: 0.03\tTime Split: 221.11\t\t\t\t\t \n",
      "Episode 900\tAverage Score: 0.06\tTime Split: 278.75\t\t\t\t\t \n",
      "Episode 1000\tAverage Score: 0.08\tTime Split: 376.40\t\t\t\t\t \n",
      "Episode 1100\tAverage Score: 0.08\tTime Split: 363.66\t\t\t\t\t \n",
      "Episode 1200\tAverage Score: 0.07\tTime Split: 301.94\t\t\t\t\t \n",
      "Episode 1300\tAverage Score: 0.07\tTime Split: 305.65\t\t\t\t\t \n",
      "Episode 1400\tAverage Score: 0.08\tTime Split: 332.58\t\t\t\t\t \n",
      "Episode 1500\tAverage Score: 0.10\tTime Split: 467.41\t\t\t\t\t \n",
      "Episode 1600\tAverage Score: 0.13\tTime Split: 543.13\t\t\t\t\t \n",
      "Episode 1700\tAverage Score: 0.18\tTime Split: 742.89\t\t\t\t\t \n",
      "Episode 1800\tAverage Score: 0.16\tTime Split: 729.70\t\t\t\t\t \n",
      "Episode 1900\tAverage Score: 0.21\tTime Split: 923.30\t\t\t\t\t \n",
      "Episode 2000\tAverage Score: 0.21\tTime Split: 937.09\t\t\t\t\t \n",
      "Episode 2100\tAverage Score: 0.23\tTime Split: 983.36\t\t\t\t\t \n",
      "Episode 2200\tAverage Score: 0.25\tTime Split: 1084.65\t\t\t\t\t \n",
      "Episode 2235\tAverage Score: 0.51\tTime Elapsed: 11432.50\n",
      "Environment solved in 2135 episodes!\tAverage Score: 0.51\tTime Elapsed: 11432.50\n"
     ]
    }
   ],
   "source": [
    "scores_dic = {}\n",
    "times_dic = {}\n",
    "\n",
    "for i in range(1):\n",
    "    print('\\nTraining session:\\t' + str(i+1))\n",
    "    scores, times = maddpg(env, dic, SuccessStop=True, NoiseNet=False, PER=True)\n",
    "    scores_dic[i] = scores\n",
    "    times_dic[i] = times\n",
    "    \n",
    "scores_dic_fix = dic_fix(scores_dic)\n",
    "times_dic_fix = dic_fix(times_dic)\n",
    "scores_df = pd.DataFrame(scores_dic_fix)\n",
    "times_df = pd.DataFrame(times_dic_fix)\n",
    "scores_df.to_csv('scores_maddpg_cl_ee_analysis.csv')\n",
    "times_df.to_csv('times_maddpg_cl_ee_analysis.csv')"
   ]
  },
  {
   "cell_type": "code",
   "execution_count": 7,
   "metadata": {},
   "outputs": [
    {
     "data": {
      "image/png": "[encoded data removed]",
      "text/plain": [
       "<Figure size 1080x720 with 1 Axes>"
      ]
     },
     "metadata": {
      "needs_background": "light"
     },
     "output_type": "display_data"
    }
   ],
   "source": [
    "scores_df = pd.read_csv('scores_maddpg_cl_ee_analysis.csv',index_col=0)\n",
    "times_df = pd.read_csv('times_maddpg_cl_ee_analysis.csv', index_col=0)\n",
    "rolling = scores_df.rolling(100).mean()\n",
    "ax = rolling.plot(legend=None, xlim=(0,2500), figsize=(15, 10), fontsize=15)\n",
    "ax.set_xlabel(\"Episodes\", fontsize=18)\n",
    "ax.set_ylabel(\"Avg Score\", fontsize=18)\n",
    "ax.set_title(\"Rolling averages of scores per 100 episodes\", fontsize=22)\n",
    "ax.hlines(0.5, xmin = 80, xmax=5020, linestyles='dashed', label='goal', colors='r')\n",
    "ax.figure.savefig(\"RollAvgMADDPGCLEE.png\")"
   ]
  },
  {
   "cell_type": "code",
   "execution_count": 8,
   "metadata": {},
   "outputs": [
    {
     "data": {
      "text/html": [
       "<div>\n",
       "<style scoped>\n",
       "    .dataframe tbody tr th:only-of-type {\n",
       "        vertical-align: middle;\n",
       "    }\n",
       "\n",
       "    .dataframe tbody tr th {\n",
       "        vertical-align: top;\n",
       "    }\n",
       "\n",
       "    .dataframe thead th {\n",
       "        text-align: right;\n",
       "    }\n",
       "</style>\n",
       "<table border=\"1\" class=\"dataframe\">\n",
       "  <thead>\n",
       "    <tr style=\"text-align: right;\">\n",
       "      <th></th>\n",
       "      <th>0</th>\n",
       "    </tr>\n",
       "  </thead>\n",
       "  <tbody>\n",
       "    <tr>\n",
       "      <th>count</th>\n",
       "      <td>2136.000000</td>\n",
       "    </tr>\n",
       "    <tr>\n",
       "      <th>mean</th>\n",
       "      <td>0.094825</td>\n",
       "    </tr>\n",
       "    <tr>\n",
       "      <th>std</th>\n",
       "      <td>0.079371</td>\n",
       "    </tr>\n",
       "    <tr>\n",
       "      <th>min</th>\n",
       "      <td>0.004000</td>\n",
       "    </tr>\n",
       "    <tr>\n",
       "      <th>25%</th>\n",
       "      <td>0.021675</td>\n",
       "    </tr>\n",
       "    <tr>\n",
       "      <th>50%</th>\n",
       "      <td>0.067300</td>\n",
       "    </tr>\n",
       "    <tr>\n",
       "      <th>75%</th>\n",
       "      <td>0.164000</td>\n",
       "    </tr>\n",
       "    <tr>\n",
       "      <th>max</th>\n",
       "      <td>0.514000</td>\n",
       "    </tr>\n",
       "  </tbody>\n",
       "</table>\n",
       "</div>"
      ],
      "text/plain": [
       "                 0\n",
       "count  2136.000000\n",
       "mean      0.094825\n",
       "std       0.079371\n",
       "min       0.004000\n",
       "25%       0.021675\n",
       "50%       0.067300\n",
       "75%       0.164000\n",
       "max       0.514000"
      ]
     },
     "execution_count": 8,
     "metadata": {},
     "output_type": "execute_result"
    }
   ],
   "source": [
    "rolling.describe()"
   ]
  },
  {
   "cell_type": "markdown",
   "metadata": {},
   "source": [
    "Relative high volatility. Strong support from PER and growth passed 0.25 score mark."
   ]
  },
  {
   "cell_type": "markdown",
   "metadata": {},
   "source": [
    "## 3 - Long training session of a MADDPG model with collaboration level one and high energy expenditure "
   ]
  },
  {
   "cell_type": "code",
   "execution_count": 2,
   "metadata": {},
   "outputs": [],
   "source": [
    "dic = {'n_episodes': 5000,         # number episodes used for learning\n",
    "       'max_t': 1000,               # maximum number of steps per episode \n",
    "       'actor_fc1_units': 400,      # number of units for first hidden layer actor net\n",
    "       'actor_fc2_units': 300,      # number of units for second hidden layer actor net\n",
    "       'critic_fc1_units': 400,     # number of units for first hidden layer critic net\n",
    "       'critic_fc2_units': 300,     # number of units for second hidden layer critic net\n",
    "       'buffer_size': int(1e6),     # replay buffer size\n",
    "       'batch_size': 512,           # minibatch size\n",
    "       'gamma': 0.99,               # discount factor\n",
    "       'tau': 1e-3,                 # for soft update of target parameters\n",
    "       'lr_actor': 1e-4,            # learning rate of the actor \n",
    "       'lr_critic': 1e-4,           # learning rate of the critic\n",
    "       'weight_decay': 0,           # L2 weight decay\n",
    "       'update_every': 1,           # learning step frequency per acting step\n",
    "       'epsilon': 0.9,              # uniform noise process initial scale parameter\n",
    "       'epsilon_halflife': 300,     # no episodes to achieve half of the noise\n",
    "       'collaboration_level': 1,    # level at which agents share rewards\n",
    "       'energy_expenditure': 0.001,  # cost of making a move\n",
    "       'file': 'chpt_maddpg_cl_ee_long'}    # file name to save agent's net weights"
   ]
  },
  {
   "cell_type": "code",
   "execution_count": null,
   "metadata": {},
   "outputs": [
    {
     "name": "stdout",
     "output_type": "stream",
     "text": [
      "\n",
      "Training session:\t1\n",
      "Episode 100\tAverage Score: 0.03\tTime Split: 171.05\t\t\t\t\t \n",
      "Episode 200\tAverage Score: 0.01\tTime Split: 180.30\t\t\t\t\t \n",
      "Episode 300\tAverage Score: 0.03\tTime Split: 213.45\t\t\t\t\t \n",
      "Episode 400\tAverage Score: 0.02\tTime Split: 203.94\t\t\t\t\t \n",
      "Episode 500\tAverage Score: 0.01\tTime Split: 193.68\t\t\t\t\t \n",
      "Episode 600\tAverage Score: 0.02\tTime Split: 201.78\t\t\t\t\t \n",
      "Episode 700\tAverage Score: 0.02\tTime Split: 201.47\t\t\t\t\t \n",
      "Episode 800\tAverage Score: 0.02\tTime Split: 205.41\t\t\t\t\t \n",
      "Episode 900\tAverage Score: 0.01\tTime Split: 196.39\t\t\t\t\t \n",
      "Episode 1000\tAverage Score: 0.01\tTime Split: 202.84\t\t\t\t\t \n",
      "Episode 1100\tAverage Score: 0.04\tTime Split: 263.71\t\t\t\t\t \n",
      "Episode 1200\tAverage Score: 0.07\tTime Split: 321.58\t\t\t\t\t \n",
      "Episode 1300\tAverage Score: 0.10\tTime Split: 391.39\t\t\t\t\t \n",
      "Episode 1400\tAverage Score: 0.12\tTime Split: 514.86\t\t\t\t\t \n",
      "Episode 1500\tAverage Score: 0.28\tTime Split: 1322.08\t\t\t\t\t \n",
      "Episode 1600\tAverage Score: 0.72\tTime Split: 3238.46\t\t\t\t\t \n",
      "Episode 1700\tAverage Score: 0.30\tTime Split: 1356.07\t\t\t\t\t \n",
      "Episode 1800\tAverage Score: 0.82\tTime Split: 3611.46\t\t\t\t\t \n",
      "Episode 1900\tAverage Score: 0.64\tTime Split: 2865.64\t\t\t\t\t \n",
      "Episode 2000\tAverage Score: 0.67\tTime Split: 2942.17\t\t\t\t\t \n",
      "Episode 2100\tAverage Score: 0.63\tTime Split: 2803.00\t\t\t\t\t \n",
      "Episode 2200\tAverage Score: 0.51\tTime Split: 2306.99\t\t\t\t\t \n",
      "Episode 2300\tAverage Score: 0.25\tTime Split: 1151.05\t\t\t\t\t \n",
      "Episode 2400\tAverage Score: 0.89\tTime Split: 3969.22\t\t\t\t\t \n",
      "Episode 2500\tAverage Score: 1.27\tTime Split: 8114.90\t\t\t\t\t \n",
      "Episode 2600\tAverage Score: 1.37\tTime Split: 6002.22\t\t\t\t\t \n",
      "Episode 2700\tAverage Score: 0.76\tTime Split: 3336.20\t\t\t\t\t \n",
      "Episode 2800\tAverage Score: 1.07\tTime Split: 4669.92\t\t\t\t\t \n",
      "Episode 2900\tAverage Score: 1.86\tTime Split: 8060.99\t\t\t\t\t \n",
      "Episode 3000\tAverage Score: 1.45\tTime Split: 6327.41\t\t\t\t\t \n",
      "Episode 3100\tAverage Score: 1.57\tTime Split: 9007.65\t\t\t\t\t \n",
      "Episode 3118\tAverage Score: 1.66\tTime Elapsed: 76327.85"
     ]
    }
   ],
   "source": [
    "scores_dic = {}\n",
    "times_dic = {}\n",
    "\n",
    "for i in range(1):\n",
    "    print('\\nTraining session:\\t' + str(i+1))\n",
    "    scores, times = maddpg(env, dic, SuccessStop=False, NoiseNet=False, PER=True)\n",
    "    scores_dic[i] = scores\n",
    "    times_dic[i] = times\n",
    "    \n",
    "scores_dic_fix = dic_fix(scores_dic)\n",
    "times_dic_fix = dic_fix(times_dic)\n",
    "scores_df = pd.DataFrame(scores_dic_fix)\n",
    "times_df = pd.DataFrame(times_dic_fix)\n",
    "scores_df.to_csv('scores_maddpg_cl_ee_long_analysis.csv')\n",
    "times_df.to_csv('times_maddpg_cl_ee_long_analysis.csv')"
   ]
  },
  {
   "cell_type": "code",
   "execution_count": null,
   "metadata": {},
   "outputs": [],
   "source": [
    "scores_df = pd.read_csv('scores_maddpg_cl_ee_long_analysis.csv',index_col=0)\n",
    "times_df = pd.read_csv('times_maddpg_cl_ee_long_analysis.csv', index_col=0)\n",
    "rolling = scores_df.rolling(100).mean()\n",
    "ax = rolling.plot(legend=None, xlim=(0,2500), figsize=(15, 10), fontsize=15)\n",
    "ax.set_xlabel(\"Episodes\", fontsize=18)\n",
    "ax.set_ylabel(\"Avg Score\", fontsize=18)\n",
    "ax.set_title(\"Rolling averages of scores per 100 episodes\", fontsize=22)\n",
    "ax.hlines(0.5, xmin = 80, xmax=5020, linestyles='dashed', label='goal', colors='r')\n",
    "ax.figure.savefig(\"RollAvgMADDPGCLEElong.png\")"
   ]
  },
  {
   "cell_type": "markdown",
   "metadata": {},
   "source": [
    "## 4 - Watch Trained Agents"
   ]
  },
  {
   "cell_type": "code",
   "execution_count": 5,
   "metadata": {},
   "outputs": [
    {
     "name": "stdout",
     "output_type": "stream",
     "text": [
      "Total score for this episode: 1.895000028423965\n"
     ]
    }
   ],
   "source": [
    "brain_name = env.brain_names[0]\n",
    "brain = env.brains[brain_name]\n",
    "env_info = env.reset(train_mode=False)[brain_name]     # reset the environment  \n",
    "action_size = brain.vector_action_space_size  \n",
    "states = env_info.vector_observations\n",
    "state = states[0]\n",
    "state_size = len(state)\n",
    "num_agents = len(env_info.agents)\n",
    "scores = np.zeros(num_agents) \n",
    "team = Team(num_agents=num_agents, state_size=state_size, action_size=action_size)\n",
    "for i, agent in enumerate(team.maddpg_agents):\n",
    "    agent.actor_local.load_state_dict(torch.load('chpt_maddpg_cl_ee_actor_'+str(i)+'.pth'))\n",
    "\n",
    "while True:\n",
    "    actions = team.act(states, add_noise=False)        # select an action  \n",
    "    env_info = env.step(actions)[brain_name]            # send all actions to the environment\n",
    "    states = env_info.vector_observations               # get next state   \n",
    "    dones = env_info.local_done                         # see if episode finished\n",
    "    scores += env_info.rewards                          # update the score     \n",
    "    if np.any(dones):                                   # exit loop if episode finished\n",
    "        break\n",
    "print('Total score for this episode: {}'.format(np.mean(scores)))"
   ]
  },
  {
   "cell_type": "markdown",
   "metadata": {},
   "source": [
    "* Less tremour and anxiety in the agent movement but still a few long unnecessary movements."
   ]
  },
  {
   "cell_type": "code",
   "execution_count": null,
   "metadata": {},
   "outputs": [],
   "source": []
  }
 ],
 "metadata": {
  "kernelspec": {
   "display_name": "unity",
   "language": "python",
   "name": "drlnd"
  },
  "language_info": {
   "codemirror_mode": {
    "name": "ipython",
    "version": 3
   },
   "file_extension": ".py",
   "mimetype": "text/x-python",
   "name": "python",
   "nbconvert_exporter": "python",
   "pygments_lexer": "ipython3",
   "version": "3.6.8"
  }
 },
 "nbformat": 4,
 "nbformat_minor": 2
}
